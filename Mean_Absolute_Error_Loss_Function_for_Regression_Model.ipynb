{
  "nbformat": 4,
  "nbformat_minor": 0,
  "metadata": {
    "colab": {
      "provenance": []
    },
    "kernelspec": {
      "name": "python3",
      "display_name": "Python 3"
    },
    "language_info": {
      "name": "python"
    }
  },
  "cells": [
    {
      "cell_type": "markdown",
      "source": [
        "Mean Absolute Error\n",
        "\n",
        "- Mean Absolute Error is the common loss function and used to evaluate the performance of regression model.\n",
        "- It measures the average magnitue of the errors between predicted value and actual values."
      ],
      "metadata": {
        "id": "CPWKg0hGGUPe"
      }
    },
    {
      "cell_type": "code",
      "execution_count": 16,
      "metadata": {
        "id": "4vZuvggUBkQu"
      },
      "outputs": [],
      "source": [
        "# Importing libraries\n",
        "\n",
        "from sklearn.datasets import make_regression\n",
        "from sklearn.preprocessing import StandardScaler\n",
        "from keras.models import Sequential\n",
        "from keras.layers import Dense\n",
        "from keras.optimizers import SGD\n",
        "from matplotlib import pyplot"
      ]
    },
    {
      "cell_type": "code",
      "source": [
        "# Generating the Regression Dataset\n",
        "X, y = make_regression(n_samples=1000, n_features=20, noise=0.1, random_state=1)\n",
        "\n",
        "# Standardizing the Dataset\n",
        "X = StandardScaler().fit_transform(X)\n",
        "y = StandardScaler().fit_transform(y.reshape(len(y),1))[:,0]\n",
        "\n",
        "# Observations\n",
        "n_train = 500\n",
        "\n",
        "# Splitting the Data into Training & Testing\n",
        "trainX, testX = X[:n_train, :], X[n_train:, :]\n",
        "trainy, testy = y[:n_train], y[n_train:]\n",
        "\n",
        "# Building the model\n",
        "model = Sequential()\n",
        "model.add(Dense(25, input_dim=20, activation=\"relu\", kernel_initializer=\"he_uniform\"))\n",
        "model.add(Dense(1, activation=\"linear\"))\n",
        "\n",
        "# Compile the model with Mean Absolute Error (MAE) as the loss function and MAE as the only metric\n",
        "opt = SGD(learning_rate=0.01, momentum=0.9)\n",
        "model.compile(loss=\"mean_absolute_error\", optimizer=opt, metrics=[\"mae\"])\n",
        "\n",
        "# Fitting the model\n",
        "history = model.fit(trainX, trainy, validation_data=(testX, testy), epochs=100, verbose=100)\n",
        "\n",
        "# Evaluate the model\n",
        "_, train_mae = model.evaluate(trainX, trainy, verbose=0)\n",
        "_, test_mae = model.evaluate(testX, testy, verbose=0)\n",
        "\n",
        "# Displaying the results\n",
        "print(\"Train: %.3f, Test: %.3f\" % (train_mae, test_mae))\n",
        "\n",
        "# Plotting MAE Loss Function During Training\n",
        "pyplot.figure(figsize=(8, 10))\n",
        "pyplot.subplot(211)\n",
        "pyplot.title('Mean Absolute Error Loss', pad=-20)\n",
        "pyplot.plot(history.history['loss'], label='train')\n",
        "pyplot.plot(history.history['val_loss'], label='test')\n",
        "pyplot.legend()\n",
        "pyplot.show()"
      ],
      "metadata": {
        "colab": {
          "base_uri": "https://localhost:8080/",
          "height": 1000
        },
        "id": "LUnQ8l9CIDMo",
        "outputId": "126bc632-8426-4286-913e-0bf0ac89966e"
      },
      "execution_count": 17,
      "outputs": [
        {
          "output_type": "stream",
          "name": "stdout",
          "text": [
            "Epoch 1/100\n",
            "Epoch 2/100\n",
            "Epoch 3/100\n",
            "Epoch 4/100\n",
            "Epoch 5/100\n",
            "Epoch 6/100\n",
            "Epoch 7/100\n",
            "Epoch 8/100\n",
            "Epoch 9/100\n",
            "Epoch 10/100\n",
            "Epoch 11/100\n",
            "Epoch 12/100\n",
            "Epoch 13/100\n",
            "Epoch 14/100\n",
            "Epoch 15/100\n",
            "Epoch 16/100\n",
            "Epoch 17/100\n",
            "Epoch 18/100\n",
            "Epoch 19/100\n",
            "Epoch 20/100\n",
            "Epoch 21/100\n",
            "Epoch 22/100\n",
            "Epoch 23/100\n",
            "Epoch 24/100\n",
            "Epoch 25/100\n",
            "Epoch 26/100\n",
            "Epoch 27/100\n",
            "Epoch 28/100\n",
            "Epoch 29/100\n",
            "Epoch 30/100\n",
            "Epoch 31/100\n",
            "Epoch 32/100\n",
            "Epoch 33/100\n",
            "Epoch 34/100\n",
            "Epoch 35/100\n",
            "Epoch 36/100\n",
            "Epoch 37/100\n",
            "Epoch 38/100\n",
            "Epoch 39/100\n",
            "Epoch 40/100\n",
            "Epoch 41/100\n",
            "Epoch 42/100\n",
            "Epoch 43/100\n",
            "Epoch 44/100\n",
            "Epoch 45/100\n",
            "Epoch 46/100\n",
            "Epoch 47/100\n",
            "Epoch 48/100\n",
            "Epoch 49/100\n",
            "Epoch 50/100\n",
            "Epoch 51/100\n",
            "Epoch 52/100\n",
            "Epoch 53/100\n",
            "Epoch 54/100\n",
            "Epoch 55/100\n",
            "Epoch 56/100\n",
            "Epoch 57/100\n",
            "Epoch 58/100\n",
            "Epoch 59/100\n",
            "Epoch 60/100\n",
            "Epoch 61/100\n",
            "Epoch 62/100\n",
            "Epoch 63/100\n",
            "Epoch 64/100\n",
            "Epoch 65/100\n",
            "Epoch 66/100\n",
            "Epoch 67/100\n",
            "Epoch 68/100\n",
            "Epoch 69/100\n",
            "Epoch 70/100\n",
            "Epoch 71/100\n",
            "Epoch 72/100\n",
            "Epoch 73/100\n",
            "Epoch 74/100\n",
            "Epoch 75/100\n",
            "Epoch 76/100\n",
            "Epoch 77/100\n",
            "Epoch 78/100\n",
            "Epoch 79/100\n",
            "Epoch 80/100\n",
            "Epoch 81/100\n",
            "Epoch 82/100\n",
            "Epoch 83/100\n",
            "Epoch 84/100\n",
            "Epoch 85/100\n",
            "Epoch 86/100\n",
            "Epoch 87/100\n",
            "Epoch 88/100\n",
            "Epoch 89/100\n",
            "Epoch 90/100\n",
            "Epoch 91/100\n",
            "Epoch 92/100\n",
            "Epoch 93/100\n",
            "Epoch 94/100\n",
            "Epoch 95/100\n",
            "Epoch 96/100\n",
            "Epoch 97/100\n",
            "Epoch 98/100\n",
            "Epoch 99/100\n",
            "Epoch 100/100\n",
            "Train: 0.060, Test: 0.076\n"
          ]
        },
        {
          "output_type": "display_data",
          "data": {
            "text/plain": [
              "<Figure size 800x1000 with 1 Axes>"
            ],
            "image/png": "[encoded data removed]"
          },
          "metadata": {}
        }
      ]
    }
  ]
}